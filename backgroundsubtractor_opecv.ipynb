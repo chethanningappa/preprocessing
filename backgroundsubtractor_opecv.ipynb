{
 "cells": [
  {
   "cell_type": "code",
   "execution_count": 1,
   "metadata": {},
   "outputs": [],
   "source": [
    "import numpy as np"
   ]
  },
  {
   "cell_type": "code",
   "execution_count": 2,
   "metadata": {},
   "outputs": [],
   "source": [
    "import cv2"
   ]
  },
  {
   "cell_type": "code",
   "execution_count": 3,
   "metadata": {},
   "outputs": [],
   "source": [
    "cap = cv2.VideoCapture(0)"
   ]
  },
  {
   "cell_type": "code",
   "execution_count": 5,
   "metadata": {},
   "outputs": [
    {
     "name": "stdout",
     "output_type": "stream",
     "text": [
      "(True, array([[[148,  99,  98],\n",
      "        [148,  99,  98],\n",
      "        [147,  98,  97],\n",
      "        ...,\n",
      "        [255, 226, 201],\n",
      "        [255, 224, 202],\n",
      "        [255, 225, 203]],\n",
      "\n",
      "       [[147,  98,  97],\n",
      "        [146,  97,  96],\n",
      "        [146,  97,  96],\n",
      "        ...,\n",
      "        [255, 226, 201],\n",
      "        [255, 224, 204],\n",
      "        [255, 225, 205]],\n",
      "\n",
      "       [[149, 100,  99],\n",
      "        [146,  97,  96],\n",
      "        [146,  98,  95],\n",
      "        ...,\n",
      "        [255, 227, 201],\n",
      "        [255, 224, 204],\n",
      "        [255, 224, 204]],\n",
      "\n",
      "       ...,\n",
      "\n",
      "       [[ 64,  45,  48],\n",
      "        [ 64,  45,  48],\n",
      "        [ 64,  45,  48],\n",
      "        ...,\n",
      "        [ 88,  60,  65],\n",
      "        [ 89,  61,  66],\n",
      "        [ 89,  61,  66]],\n",
      "\n",
      "       [[ 71,  50,  54],\n",
      "        [ 70,  49,  53],\n",
      "        [ 69,  48,  52],\n",
      "        ...,\n",
      "        [ 88,  60,  65],\n",
      "        [ 89,  61,  66],\n",
      "        [ 88,  60,  65]],\n",
      "\n",
      "       [[ 78,  57,  60],\n",
      "        [ 75,  54,  57],\n",
      "        [ 70,  49,  53],\n",
      "        ...,\n",
      "        [ 86,  58,  63],\n",
      "        [ 84,  58,  63],\n",
      "        [ 84,  58,  63]]], dtype=uint8))\n"
     ]
    }
   ],
   "source": [
    "print(cap.read())"
   ]
  },
  {
   "cell_type": "code",
   "execution_count": null,
   "metadata": {},
   "outputs": [],
   "source": [
    "fgbg=cv2.createBackgroundSubtractorMOG2()"
   ]
  },
  {
   "cell_type": "code",
   "execution_count": null,
   "metadata": {},
   "outputs": [],
   "source": [
    "while True:\n",
    "    ret, frame = cap.read()\n",
    "    fgmask = fgbg.apply(frame)\n",
    "    cv2.imshow('fgmask',fgmask)\n",
    "    cv2.imshow('frame',frame)\n",
    "    \n",
    "    k= cv2.waitKey(39) & 0xff\n",
    "    if k == 27:\n",
    "        break\n",
    "\n",
    "cap.release()\n",
    "cv2.destroAllwindows()"
   ]
  },
  {
   "cell_type": "code",
   "execution_count": null,
   "metadata": {},
   "outputs": [],
   "source": []
  }
 ],
 "metadata": {
  "kernelspec": {
   "display_name": "Python 3",
   "language": "python",
   "name": "python3"
  },
  "language_info": {
   "codemirror_mode": {
    "name": "ipython",
    "version": 3
   },
   "file_extension": ".py",
   "mimetype": "text/x-python",
   "name": "python",
   "nbconvert_exporter": "python",
   "pygments_lexer": "ipython3",
   "version": "3.7.3"
  }
 },
 "nbformat": 4,
 "nbformat_minor": 2
}
